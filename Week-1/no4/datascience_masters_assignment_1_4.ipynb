{
 "cells": [
  {
   "cell_type": "code",
   "execution_count": 6,
   "metadata": {},
   "outputs": [
    {
     "name": "stdout",
     "output_type": "stream",
     "text": [
      "The Volume of Sphere for radius: 6.0cm is 904.7786842338603\n"
     ]
    }
   ],
   "source": [
    "from math import pi\n",
    "\n",
    "def printVolumeOfSphere(radius):\n",
    "    volume = (4 / 3) * pi * (radius ** 3)\n",
    "    print('The Volume of Sphere for radius: {}cm is {}'.format(radius, volume))\n",
    "\n",
    "diameter = 12\n",
    "radius = diameter / 2\n",
    "printVolumeOfSphere(radius)"
   ]
  },
  {
   "cell_type": "code",
   "execution_count": null,
   "metadata": {
    "collapsed": true
   },
   "outputs": [],
   "source": []
  }
 ],
 "metadata": {
  "kernelspec": {
   "display_name": "Python 3",
   "language": "python",
   "name": "python3"
  },
  "language_info": {
   "codemirror_mode": {
    "name": "ipython",
    "version": 3
   },
   "file_extension": ".py",
   "mimetype": "text/x-python",
   "name": "python",
   "nbconvert_exporter": "python",
   "pygments_lexer": "ipython3",
   "version": "3.6.3"
  }
 },
 "nbformat": 4,
 "nbformat_minor": 2
}
